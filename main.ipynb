{
 "cells": [
  {
   "attachments": {},
   "cell_type": "markdown",
   "metadata": {},
   "source": [
    "# Coursera recomender System"
   ]
  },
  {
   "attachments": {},
   "cell_type": "markdown",
   "metadata": {},
   "source": [
    "## Imports"
   ]
  },
  {
   "cell_type": "code",
   "execution_count": 115,
   "metadata": {},
   "outputs": [],
   "source": [
    "import os\n",
    "import numpy as np\n",
    "import pandas as pd\n",
    "import matplotlib.pyplot as plt"
   ]
  },
  {
   "attachments": {},
   "cell_type": "markdown",
   "metadata": {},
   "source": [
    "## 1.Gathering Data from Coursera via request API"
   ]
  },
  {
   "cell_type": "code",
   "execution_count": 109,
   "metadata": {},
   "outputs": [
    {
     "data": {
      "text/html": [
       "<div>\n",
       "<style scoped>\n",
       "    .dataframe tbody tr th:only-of-type {\n",
       "        vertical-align: middle;\n",
       "    }\n",
       "\n",
       "    .dataframe tbody tr th {\n",
       "        vertical-align: top;\n",
       "    }\n",
       "\n",
       "    .dataframe thead th {\n",
       "        text-align: right;\n",
       "    }\n",
       "</style>\n",
       "<table border=\"1\" class=\"dataframe\">\n",
       "  <thead>\n",
       "    <tr style=\"text-align: right;\">\n",
       "      <th></th>\n",
       "      <th>ID</th>\n",
       "      <th>Name</th>\n",
       "      <th>Slug</th>\n",
       "      <th>Start Date</th>\n",
       "      <th>Primary Languages</th>\n",
       "      <th>Workload</th>\n",
       "      <th>Is Part of Specialization</th>\n",
       "    </tr>\n",
       "  </thead>\n",
       "  <tbody>\n",
       "    <tr>\n",
       "      <th>0</th>\n",
       "      <td>NJSdGN71Eeq4CApSN3OTvQ</td>\n",
       "      <td>Make Your Pick-Ups Look Cool in Unity (Intro t...</td>\n",
       "      <td>make-pick-ups-look-cool-unity-introduction-ani...</td>\n",
       "      <td>1598035773172</td>\n",
       "      <td>en</td>\n",
       "      <td>2 hours</td>\n",
       "      <td>False</td>\n",
       "    </tr>\n",
       "    <tr>\n",
       "      <th>1</th>\n",
       "      <td>DMkcgX7LEeyRTg6FtAvfBw</td>\n",
       "      <td>Intégrer des applications dans votre Dashboard...</td>\n",
       "      <td>integrer-applications-dashboard-hootsuite</td>\n",
       "      <td>1644614698077</td>\n",
       "      <td>fr</td>\n",
       "      <td>2 heures</td>\n",
       "      <td>False</td>\n",
       "    </tr>\n",
       "    <tr>\n",
       "      <th>2</th>\n",
       "      <td>YLO0oGSUEeyIUg4Qv2RsBQ</td>\n",
       "      <td>كيفية استعمال التطبيق هووتسويت</td>\n",
       "      <td>getting-started-with-hootsuite-ar</td>\n",
       "      <td>1642193091376</td>\n",
       "      <td>ar</td>\n",
       "      <td>2 hours</td>\n",
       "      <td>False</td>\n",
       "    </tr>\n",
       "    <tr>\n",
       "      <th>3</th>\n",
       "      <td>69Bku0KoEeWZtA4u62x6lQ</td>\n",
       "      <td>Gamification</td>\n",
       "      <td>gamification</td>\n",
       "      <td>1447095621493</td>\n",
       "      <td>en</td>\n",
       "      <td>4-8 hours/week</td>\n",
       "      <td>False</td>\n",
       "    </tr>\n",
       "    <tr>\n",
       "      <th>4</th>\n",
       "      <td>0HiU7Oe4EeWTAQ4yevf_oQ</td>\n",
       "      <td>Dealing With Missing Data</td>\n",
       "      <td>missing-data</td>\n",
       "      <td>1471901099812</td>\n",
       "      <td>en</td>\n",
       "      <td>4 weeks of study, 1-2 hours/week</td>\n",
       "      <td>False</td>\n",
       "    </tr>\n",
       "    <tr>\n",
       "      <th>...</th>\n",
       "      <td>...</td>\n",
       "      <td>...</td>\n",
       "      <td>...</td>\n",
       "      <td>...</td>\n",
       "      <td>...</td>\n",
       "      <td>...</td>\n",
       "      <td>...</td>\n",
       "    </tr>\n",
       "    <tr>\n",
       "      <th>9995</th>\n",
       "      <td>ng-bUg0kEe2Y4woRe4onvw</td>\n",
       "      <td>Bildklassifizierung mit Tensorflow</td>\n",
       "      <td>bildklassifizierung-mit-tensorflow</td>\n",
       "      <td>1659393633053</td>\n",
       "      <td>de</td>\n",
       "      <td>1 Stunde</td>\n",
       "      <td>False</td>\n",
       "    </tr>\n",
       "    <tr>\n",
       "      <th>9996</th>\n",
       "      <td>oRWiSiO-EeuZCg52ZqAIxQ</td>\n",
       "      <td>الاستراتيجية التنافسية</td>\n",
       "      <td>competitive-strategy-ar</td>\n",
       "      <td>1619536132986</td>\n",
       "      <td>ar</td>\n",
       "      <td>10 ساعات فيديو واختبارات</td>\n",
       "      <td>False</td>\n",
       "    </tr>\n",
       "    <tr>\n",
       "      <th>9997</th>\n",
       "      <td>iClli1IjEey1wAq1DMRz-Q</td>\n",
       "      <td>Intro to Operating Systems 4: Persistence</td>\n",
       "      <td>codio-intro-to-operating-systems-4-persistence</td>\n",
       "      <td>1641316357195</td>\n",
       "      <td>en</td>\n",
       "      <td></td>\n",
       "      <td>False</td>\n",
       "    </tr>\n",
       "    <tr>\n",
       "      <th>9998</th>\n",
       "      <td>a19TzyN0Eeu-rg7jvs9-1w</td>\n",
       "      <td>Bases de la planification et de la gestion de ...</td>\n",
       "      <td>uva-darden-project-management-fr</td>\n",
       "      <td>1618419430243</td>\n",
       "      <td>fr</td>\n",
       "      <td>4 semaines d’études, 2-3 heures/semaine</td>\n",
       "      <td>False</td>\n",
       "    </tr>\n",
       "    <tr>\n",
       "      <th>9999</th>\n",
       "      <td>OyGo0mEhEe2ayw6mFdbQdw</td>\n",
       "      <td>البرمجة في لغة Python</td>\n",
       "      <td>programming-in-python-ar</td>\n",
       "      <td>1679597439236</td>\n",
       "      <td>ar</td>\n",
       "      <td>5 أسابيع للدراسة، 6-9 ساعات في الأسبوع.</td>\n",
       "      <td>False</td>\n",
       "    </tr>\n",
       "  </tbody>\n",
       "</table>\n",
       "<p>10000 rows × 7 columns</p>\n",
       "</div>"
      ],
      "text/plain": [
       "                          ID  \\\n",
       "0     NJSdGN71Eeq4CApSN3OTvQ   \n",
       "1     DMkcgX7LEeyRTg6FtAvfBw   \n",
       "2     YLO0oGSUEeyIUg4Qv2RsBQ   \n",
       "3     69Bku0KoEeWZtA4u62x6lQ   \n",
       "4     0HiU7Oe4EeWTAQ4yevf_oQ   \n",
       "...                      ...   \n",
       "9995  ng-bUg0kEe2Y4woRe4onvw   \n",
       "9996  oRWiSiO-EeuZCg52ZqAIxQ   \n",
       "9997  iClli1IjEey1wAq1DMRz-Q   \n",
       "9998  a19TzyN0Eeu-rg7jvs9-1w   \n",
       "9999  OyGo0mEhEe2ayw6mFdbQdw   \n",
       "\n",
       "                                                   Name  \\\n",
       "0     Make Your Pick-Ups Look Cool in Unity (Intro t...   \n",
       "1     Intégrer des applications dans votre Dashboard...   \n",
       "2                        كيفية استعمال التطبيق هووتسويت   \n",
       "3                                          Gamification   \n",
       "4                             Dealing With Missing Data   \n",
       "...                                                 ...   \n",
       "9995                 Bildklassifizierung mit Tensorflow   \n",
       "9996                            الاستراتيجية التنافسية    \n",
       "9997          Intro to Operating Systems 4: Persistence   \n",
       "9998  Bases de la planification et de la gestion de ...   \n",
       "9999                              البرمجة في لغة Python   \n",
       "\n",
       "                                                   Slug     Start Date  \\\n",
       "0     make-pick-ups-look-cool-unity-introduction-ani...  1598035773172   \n",
       "1             integrer-applications-dashboard-hootsuite  1644614698077   \n",
       "2                     getting-started-with-hootsuite-ar  1642193091376   \n",
       "3                                          gamification  1447095621493   \n",
       "4                                          missing-data  1471901099812   \n",
       "...                                                 ...            ...   \n",
       "9995                 bildklassifizierung-mit-tensorflow  1659393633053   \n",
       "9996                            competitive-strategy-ar  1619536132986   \n",
       "9997     codio-intro-to-operating-systems-4-persistence  1641316357195   \n",
       "9998                   uva-darden-project-management-fr  1618419430243   \n",
       "9999                           programming-in-python-ar  1679597439236   \n",
       "\n",
       "     Primary Languages                                 Workload  \\\n",
       "0                   en                                  2 hours   \n",
       "1                   fr                                 2 heures   \n",
       "2                   ar                                  2 hours   \n",
       "3                   en                           4-8 hours/week   \n",
       "4                   en         4 weeks of study, 1-2 hours/week   \n",
       "...                ...                                      ...   \n",
       "9995                de                                 1 Stunde   \n",
       "9996                ar                10 ساعات فيديو واختبارات    \n",
       "9997                en                                            \n",
       "9998                fr  4 semaines d’études, 2-3 heures/semaine   \n",
       "9999                ar  5 أسابيع للدراسة، 6-9 ساعات في الأسبوع.   \n",
       "\n",
       "      Is Part of Specialization  \n",
       "0                         False  \n",
       "1                         False  \n",
       "2                         False  \n",
       "3                         False  \n",
       "4                         False  \n",
       "...                         ...  \n",
       "9995                      False  \n",
       "9996                      False  \n",
       "9997                      False  \n",
       "9998                      False  \n",
       "9999                      False  \n",
       "\n",
       "[10000 rows x 7 columns]"
      ]
     },
     "execution_count": 109,
     "metadata": {},
     "output_type": "execute_result"
    }
   ],
   "source": [
    "import pandas as pd\n",
    "import requests\n",
    "\n",
    "def get_courses_data():\n",
    "    api_url = \"https://api.coursera.org/api/courses.v1\"\n",
    "    params = {\n",
    "        \"start\": 0,\n",
    "        \"limit\": 10000,\n",
    "        \"fields\": \"id,name,slug,startDate,primaryLanguages,workload,isPartOfSpecialization\"\n",
    "    }\n",
    "    response = requests.get(api_url, params=params)\n",
    "    \n",
    "    if response.status_code == 200:\n",
    "        data = response.json()\n",
    "        courses = data[\"elements\"]\n",
    "        \n",
    "        course_data = []\n",
    "        for course in courses:\n",
    "            course_id = course[\"id\"]\n",
    "            course_name = course[\"name\"]\n",
    "            course_slug = course[\"slug\"]\n",
    "            start_date = course.get(\"startDate\", \"\")\n",
    "            end_date = course.get(\"endDate\", \"\")\n",
    "            primary_languages = course.get(\"primaryLanguages\", [])\n",
    "            workload = course.get(\"workload\", \"\")\n",
    "            primary_category = course.get(\"primaryCategory\", \"\")\n",
    "            instructor_ids = course.get(\"instructorIds\", [])\n",
    "            is_part_of_specialization = course.get(\"isPartOfSpecialization\", False)\n",
    "            skills = course.get(\"skills\", [])\n",
    "            audience = course.get(\"audience\", \"\")\n",
    "            course_format = course.get(\"courseFormat\", \"\")\n",
    "            \n",
    "            course_data.append({\n",
    "                \"ID\": course_id,\n",
    "                \"Name\": course_name,\n",
    "                \"Slug\": course_slug,\n",
    "                \"Start Date\": start_date,\n",
    "                \"Primary Languages\": primary_languages[0].split('-')[0],\n",
    "                \"Workload\": workload,\n",
    "                #\"primary_category\":primary_category,\n",
    "                #\"Instructor IDs\": instructor_ids,\n",
    "                \"Is Part of Specialization\": is_part_of_specialization,\n",
    "            })\n",
    "        \n",
    "        df = pd.DataFrame(course_data)\n",
    "        return df\n",
    "    else:\n",
    "        print(\"Failed to retrieve data. Status code:\", response.status_code)\n",
    "        return None\n",
    "\n",
    "courses_df = get_courses_data()\n"
   ]
  },
  {
   "cell_type": "code",
   "execution_count": 114,
   "metadata": {},
   "outputs": [
    {
     "data": {
      "text/plain": [
       "count                10000\n",
       "unique                   7\n",
       "top       01-01-1970 00:27\n",
       "freq                  4181\n",
       "Name: Start Date, dtype: object"
      ]
     },
     "execution_count": 114,
     "metadata": {},
     "output_type": "execute_result"
    }
   ],
   "source": [
    "courses_df['Start Date'] = pd.to_datetime(courses_df['Start Date'])\n",
    "courses_df['Start Date'] = courses_df['Start Date'].dt.strftime('%d-%m-%Y %H:%M')\n",
    "courses_df['Start Date'].describe()"
   ]
  },
  {
   "attachments": {},
   "cell_type": "markdown",
   "metadata": {},
   "source": [
    "## 2.Database"
   ]
  },
  {
   "attachments": {},
   "cell_type": "markdown",
   "metadata": {},
   "source": [
    "### 2-1.Save to DB"
   ]
  },
  {
   "cell_type": "code",
   "execution_count": 8,
   "metadata": {},
   "outputs": [],
   "source": [
    "import pandas as pd\n",
    "import pymysql\n",
    "from sqlalchemy import create_engine\n",
    "\n",
    "def save_df_to_mysql(df, database, table_name, host='localhost', user='your_username', password='your_password'):\n",
    "    # Create a MySQL connection\n",
    "    connection = pymysql.connect(\n",
    "        host=host,\n",
    "        user=user,\n",
    "        password=password\n",
    "    )\n",
    "    \n",
    "    # Create the database if it doesn't exist\n",
    "    cursor = connection.cursor()\n",
    "    cursor.execute(f\"CREATE DATABASE IF NOT EXISTS {database}\")\n",
    "    cursor.close()\n",
    "    \n",
    "    # Create SQLAlchemy engine\n",
    "    engine = create_engine(f\"mysql+pymysql://{user}:{password}@{host}/{database}\")\n",
    "    \n",
    "    # Save the DataFrame to the MySQL table\n",
    "    df.to_sql(table_name, engine, if_exists='replace', index=False)\n",
    "    \n",
    "    # Close the connection\n",
    "    connection.close()\n",
    "    print(f\"DataFrame saved to the '{database}.{table_name}' table.\")"
   ]
  },
  {
   "cell_type": "code",
   "execution_count": 9,
   "metadata": {},
   "outputs": [
    {
     "name": "stdout",
     "output_type": "stream",
     "text": [
      "DataFrame saved to the 'DBLAB_final_project.test3' table.\n"
     ]
    }
   ],
   "source": [
    "database_name = \"DBLAB_final_project\"\n",
    "table_name = \"test3\"\n",
    "save_df_to_mysql(courses_df, database_name, table_name, host='localhost', user='root', password='pdne')"
   ]
  },
  {
   "attachments": {},
   "cell_type": "markdown",
   "metadata": {},
   "source": [
    "### 2-2.Connect to DB"
   ]
  },
  {
   "cell_type": "code",
   "execution_count": 1,
   "metadata": {},
   "outputs": [
    {
     "name": "stdout",
     "output_type": "stream",
     "text": [
      "('Coursera',)\n",
      "('Coursera_DBLAB',)\n",
      "('DB_Lab',)\n",
      "('DBLAB_final_project',)\n",
      "('information_schema',)\n",
      "('myDatabase',)\n",
      "('mysql',)\n",
      "('performance_schema',)\n",
      "('Session_Data',)\n",
      "('Study',)\n",
      "('sys',)\n",
      "('TopLearn_Project',)\n"
     ]
    }
   ],
   "source": [
    "import mysql\n",
    "import mysql.connector\n",
    "# run this every time\n",
    "mydb = mysql.connector.connect(\n",
    "  host=\"localhost\",\n",
    "  user=\"root\",\n",
    "  password=\"pdne\",\n",
    " \n",
    ")\n",
    "mycursor = mydb.cursor()\n",
    "\n",
    "mycursor.execute(\"SHOW DATABASES\")\n",
    "for db in mycursor:\n",
    "    print(db)"
   ]
  },
  {
   "cell_type": "code",
   "execution_count": 5,
   "metadata": {},
   "outputs": [
    {
     "name": "stderr",
     "output_type": "stream",
     "text": [
      "/var/folders/bf/9616ns414yg2qn2p8czl2sr00000gn/T/ipykernel_18149/967033774.py:3: UserWarning: pandas only supports SQLAlchemy connectable (engine/connection) or database string URI or sqlite3 DBAPI2 connection. Other DBAPI2 objects are not tested. Please consider using SQLAlchemy.\n",
      "  courses_df = pd.read_sql('SELECT * FROM test3', mydb)\n"
     ]
    },
    {
     "data": {
      "text/html": [
       "<div>\n",
       "<style scoped>\n",
       "    .dataframe tbody tr th:only-of-type {\n",
       "        vertical-align: middle;\n",
       "    }\n",
       "\n",
       "    .dataframe tbody tr th {\n",
       "        vertical-align: top;\n",
       "    }\n",
       "\n",
       "    .dataframe thead th {\n",
       "        text-align: right;\n",
       "    }\n",
       "</style>\n",
       "<table border=\"1\" class=\"dataframe\">\n",
       "  <thead>\n",
       "    <tr style=\"text-align: right;\">\n",
       "      <th></th>\n",
       "      <th>ID</th>\n",
       "      <th>Name</th>\n",
       "      <th>Slug</th>\n",
       "      <th>Start Date</th>\n",
       "      <th>Primary Languages</th>\n",
       "      <th>Workload</th>\n",
       "      <th>Is Part of Specialization</th>\n",
       "    </tr>\n",
       "  </thead>\n",
       "  <tbody>\n",
       "    <tr>\n",
       "      <th>0</th>\n",
       "      <td>NJSdGN71Eeq4CApSN3OTvQ</td>\n",
       "      <td>Make Your Pick-Ups Look Cool in Unity (Intro t...</td>\n",
       "      <td>make-pick-ups-look-cool-unity-introduction-ani...</td>\n",
       "      <td>1598035773172</td>\n",
       "      <td>en</td>\n",
       "      <td>2 hours</td>\n",
       "      <td>0</td>\n",
       "    </tr>\n",
       "    <tr>\n",
       "      <th>1</th>\n",
       "      <td>DMkcgX7LEeyRTg6FtAvfBw</td>\n",
       "      <td>Intégrer des applications dans votre Dashboard...</td>\n",
       "      <td>integrer-applications-dashboard-hootsuite</td>\n",
       "      <td>1644614698077</td>\n",
       "      <td>fr</td>\n",
       "      <td>2 heures</td>\n",
       "      <td>0</td>\n",
       "    </tr>\n",
       "    <tr>\n",
       "      <th>2</th>\n",
       "      <td>YLO0oGSUEeyIUg4Qv2RsBQ</td>\n",
       "      <td>كيفية استعمال التطبيق هووتسويت</td>\n",
       "      <td>getting-started-with-hootsuite-ar</td>\n",
       "      <td>1642193091376</td>\n",
       "      <td>ar</td>\n",
       "      <td>2 hours</td>\n",
       "      <td>0</td>\n",
       "    </tr>\n",
       "    <tr>\n",
       "      <th>3</th>\n",
       "      <td>69Bku0KoEeWZtA4u62x6lQ</td>\n",
       "      <td>Gamification</td>\n",
       "      <td>gamification</td>\n",
       "      <td>1447095621493</td>\n",
       "      <td>en</td>\n",
       "      <td>4-8 hours/week</td>\n",
       "      <td>0</td>\n",
       "    </tr>\n",
       "    <tr>\n",
       "      <th>4</th>\n",
       "      <td>0HiU7Oe4EeWTAQ4yevf_oQ</td>\n",
       "      <td>Dealing With Missing Data</td>\n",
       "      <td>missing-data</td>\n",
       "      <td>1471901099812</td>\n",
       "      <td>en</td>\n",
       "      <td>4 weeks of study, 1-2 hours/week</td>\n",
       "      <td>0</td>\n",
       "    </tr>\n",
       "    <tr>\n",
       "      <th>...</th>\n",
       "      <td>...</td>\n",
       "      <td>...</td>\n",
       "      <td>...</td>\n",
       "      <td>...</td>\n",
       "      <td>...</td>\n",
       "      <td>...</td>\n",
       "      <td>...</td>\n",
       "    </tr>\n",
       "    <tr>\n",
       "      <th>95</th>\n",
       "      <td>XXZBGc97EeufchLeGgZGZQ</td>\n",
       "      <td>Relational Database Administration (DBA)</td>\n",
       "      <td>relational-database-administration</td>\n",
       "      <td>1637617419532</td>\n",
       "      <td>en</td>\n",
       "      <td>5 weeks of study, 2-4 hours / week</td>\n",
       "      <td>0</td>\n",
       "    </tr>\n",
       "    <tr>\n",
       "      <th>96</th>\n",
       "      <td>M1lJ0BrjEeui5Apx-DHBkQ</td>\n",
       "      <td>Waits in Selenium Test Automation Tool</td>\n",
       "      <td>waits-in-selenium-test-automation-tool</td>\n",
       "      <td>1604094399504</td>\n",
       "      <td>en</td>\n",
       "      <td>2 hours</td>\n",
       "      <td>0</td>\n",
       "    </tr>\n",
       "    <tr>\n",
       "      <th>97</th>\n",
       "      <td>LZZg6vhQEeWfYgqbi1xsdw</td>\n",
       "      <td>Chinese Characters for beginner 汉字</td>\n",
       "      <td>hanzi</td>\n",
       "      <td>1477679733728</td>\n",
       "      <td>zh</td>\n",
       "      <td>5-7 hours/week</td>\n",
       "      <td>0</td>\n",
       "    </tr>\n",
       "    <tr>\n",
       "      <th>98</th>\n",
       "      <td>wFc3FhwIEeyf4Ar-aygVCw</td>\n",
       "      <td>Introducción a Hootsuite</td>\n",
       "      <td>introduccion-a-hootsuite</td>\n",
       "      <td>1633635891410</td>\n",
       "      <td>es</td>\n",
       "      <td>2 hours</td>\n",
       "      <td>0</td>\n",
       "    </tr>\n",
       "    <tr>\n",
       "      <th>99</th>\n",
       "      <td>N-oddxiMEeuyaw5Bb1iaHQ</td>\n",
       "      <td>Introduction to EDA in R</td>\n",
       "      <td>introduction-to-eda-in-r</td>\n",
       "      <td>1604084727478</td>\n",
       "      <td>en</td>\n",
       "      <td>2 hours</td>\n",
       "      <td>0</td>\n",
       "    </tr>\n",
       "  </tbody>\n",
       "</table>\n",
       "<p>100 rows × 7 columns</p>\n",
       "</div>"
      ],
      "text/plain": [
       "                        ID                                               Name  \\\n",
       "0   NJSdGN71Eeq4CApSN3OTvQ  Make Your Pick-Ups Look Cool in Unity (Intro t...   \n",
       "1   DMkcgX7LEeyRTg6FtAvfBw  Intégrer des applications dans votre Dashboard...   \n",
       "2   YLO0oGSUEeyIUg4Qv2RsBQ                     كيفية استعمال التطبيق هووتسويت   \n",
       "3   69Bku0KoEeWZtA4u62x6lQ                                       Gamification   \n",
       "4   0HiU7Oe4EeWTAQ4yevf_oQ                          Dealing With Missing Data   \n",
       "..                     ...                                                ...   \n",
       "95  XXZBGc97EeufchLeGgZGZQ           Relational Database Administration (DBA)   \n",
       "96  M1lJ0BrjEeui5Apx-DHBkQ             Waits in Selenium Test Automation Tool   \n",
       "97  LZZg6vhQEeWfYgqbi1xsdw                 Chinese Characters for beginner 汉字   \n",
       "98  wFc3FhwIEeyf4Ar-aygVCw                           Introducción a Hootsuite   \n",
       "99  N-oddxiMEeuyaw5Bb1iaHQ                           Introduction to EDA in R   \n",
       "\n",
       "                                                 Slug     Start Date  \\\n",
       "0   make-pick-ups-look-cool-unity-introduction-ani...  1598035773172   \n",
       "1           integrer-applications-dashboard-hootsuite  1644614698077   \n",
       "2                   getting-started-with-hootsuite-ar  1642193091376   \n",
       "3                                        gamification  1447095621493   \n",
       "4                                        missing-data  1471901099812   \n",
       "..                                                ...            ...   \n",
       "95                 relational-database-administration  1637617419532   \n",
       "96             waits-in-selenium-test-automation-tool  1604094399504   \n",
       "97                                              hanzi  1477679733728   \n",
       "98                           introduccion-a-hootsuite  1633635891410   \n",
       "99                           introduction-to-eda-in-r  1604084727478   \n",
       "\n",
       "   Primary Languages                             Workload  \\\n",
       "0                 en                              2 hours   \n",
       "1                 fr                             2 heures   \n",
       "2                 ar                              2 hours   \n",
       "3                 en                       4-8 hours/week   \n",
       "4                 en     4 weeks of study, 1-2 hours/week   \n",
       "..               ...                                  ...   \n",
       "95                en   5 weeks of study, 2-4 hours / week   \n",
       "96                en                              2 hours   \n",
       "97                zh                       5-7 hours/week   \n",
       "98                es                             2 hours    \n",
       "99                en                              2 hours   \n",
       "\n",
       "    Is Part of Specialization  \n",
       "0                           0  \n",
       "1                           0  \n",
       "2                           0  \n",
       "3                           0  \n",
       "4                           0  \n",
       "..                        ...  \n",
       "95                          0  \n",
       "96                          0  \n",
       "97                          0  \n",
       "98                          0  \n",
       "99                          0  \n",
       "\n",
       "[100 rows x 7 columns]"
      ]
     },
     "execution_count": 5,
     "metadata": {},
     "output_type": "execute_result"
    }
   ],
   "source": [
    "import pandas as pd\n",
    "mycursor.execute(\"USE DBLAB_final_project\")\n",
    "courses_df = pd.read_sql('SELECT * FROM test3', mydb)\n",
    "courses_df"
   ]
  },
  {
   "attachments": {},
   "cell_type": "markdown",
   "metadata": {},
   "source": [
    "## 3.Dataframe and Analysis"
   ]
  },
  {
   "cell_type": "code",
   "execution_count": 116,
   "metadata": {},
   "outputs": [
    {
     "data": {
      "text/html": [
       "<div>\n",
       "<style scoped>\n",
       "    .dataframe tbody tr th:only-of-type {\n",
       "        vertical-align: middle;\n",
       "    }\n",
       "\n",
       "    .dataframe tbody tr th {\n",
       "        vertical-align: top;\n",
       "    }\n",
       "\n",
       "    .dataframe thead th {\n",
       "        text-align: right;\n",
       "    }\n",
       "</style>\n",
       "<table border=\"1\" class=\"dataframe\">\n",
       "  <thead>\n",
       "    <tr style=\"text-align: right;\">\n",
       "      <th></th>\n",
       "      <th>Course Name</th>\n",
       "      <th>University</th>\n",
       "      <th>Difficulty Level</th>\n",
       "      <th>Course Rating</th>\n",
       "      <th>Course URL</th>\n",
       "      <th>Course Description</th>\n",
       "      <th>Skills</th>\n",
       "    </tr>\n",
       "  </thead>\n",
       "  <tbody>\n",
       "    <tr>\n",
       "      <th>0</th>\n",
       "      <td>Write A Feature Length Screenplay For Film Or ...</td>\n",
       "      <td>Michigan State University</td>\n",
       "      <td>Beginner</td>\n",
       "      <td>4.8</td>\n",
       "      <td>https://www.coursera.org/learn/write-a-feature...</td>\n",
       "      <td>Write a Full Length Feature Film Script  In th...</td>\n",
       "      <td>Drama  Comedy  peering  screenwriting  film  D...</td>\n",
       "    </tr>\n",
       "    <tr>\n",
       "      <th>1</th>\n",
       "      <td>Business Strategy: Business Model Canvas Analy...</td>\n",
       "      <td>Coursera Project Network</td>\n",
       "      <td>Beginner</td>\n",
       "      <td>4.8</td>\n",
       "      <td>https://www.coursera.org/learn/canvas-analysis...</td>\n",
       "      <td>By the end of this guided project, you will be...</td>\n",
       "      <td>Finance  business plan  persona (user experien...</td>\n",
       "    </tr>\n",
       "    <tr>\n",
       "      <th>2</th>\n",
       "      <td>Silicon Thin Film Solar Cells</td>\n",
       "      <td>�cole Polytechnique</td>\n",
       "      <td>Advanced</td>\n",
       "      <td>4.1</td>\n",
       "      <td>https://www.coursera.org/learn/silicon-thin-fi...</td>\n",
       "      <td>This course consists of a general presentation...</td>\n",
       "      <td>chemistry  physics  Solar Energy  film  lambda...</td>\n",
       "    </tr>\n",
       "    <tr>\n",
       "      <th>3</th>\n",
       "      <td>Finance for Managers</td>\n",
       "      <td>IESE Business School</td>\n",
       "      <td>Intermediate</td>\n",
       "      <td>4.8</td>\n",
       "      <td>https://www.coursera.org/learn/operational-fin...</td>\n",
       "      <td>When it comes to numbers, there is always more...</td>\n",
       "      <td>accounts receivable  dupont analysis  analysis...</td>\n",
       "    </tr>\n",
       "    <tr>\n",
       "      <th>4</th>\n",
       "      <td>Retrieve Data using Single-Table SQL Queries</td>\n",
       "      <td>Coursera Project Network</td>\n",
       "      <td>Beginner</td>\n",
       "      <td>4.6</td>\n",
       "      <td>https://www.coursera.org/learn/single-table-sq...</td>\n",
       "      <td>In this course you�ll learn how to effectively...</td>\n",
       "      <td>Data Analysis  select (sql)  database manageme...</td>\n",
       "    </tr>\n",
       "  </tbody>\n",
       "</table>\n",
       "</div>"
      ],
      "text/plain": [
       "                                         Course Name  \\\n",
       "0  Write A Feature Length Screenplay For Film Or ...   \n",
       "1  Business Strategy: Business Model Canvas Analy...   \n",
       "2                      Silicon Thin Film Solar Cells   \n",
       "3                               Finance for Managers   \n",
       "4       Retrieve Data using Single-Table SQL Queries   \n",
       "\n",
       "                  University Difficulty Level Course Rating  \\\n",
       "0  Michigan State University         Beginner           4.8   \n",
       "1   Coursera Project Network         Beginner           4.8   \n",
       "2        �cole Polytechnique         Advanced           4.1   \n",
       "3       IESE Business School     Intermediate           4.8   \n",
       "4   Coursera Project Network         Beginner           4.6   \n",
       "\n",
       "                                          Course URL  \\\n",
       "0  https://www.coursera.org/learn/write-a-feature...   \n",
       "1  https://www.coursera.org/learn/canvas-analysis...   \n",
       "2  https://www.coursera.org/learn/silicon-thin-fi...   \n",
       "3  https://www.coursera.org/learn/operational-fin...   \n",
       "4  https://www.coursera.org/learn/single-table-sq...   \n",
       "\n",
       "                                  Course Description  \\\n",
       "0  Write a Full Length Feature Film Script  In th...   \n",
       "1  By the end of this guided project, you will be...   \n",
       "2  This course consists of a general presentation...   \n",
       "3  When it comes to numbers, there is always more...   \n",
       "4  In this course you�ll learn how to effectively...   \n",
       "\n",
       "                                              Skills  \n",
       "0  Drama  Comedy  peering  screenwriting  film  D...  \n",
       "1  Finance  business plan  persona (user experien...  \n",
       "2  chemistry  physics  Solar Energy  film  lambda...  \n",
       "3  accounts receivable  dupont analysis  analysis...  \n",
       "4  Data Analysis  select (sql)  database manageme...  "
      ]
     },
     "execution_count": 116,
     "metadata": {},
     "output_type": "execute_result"
    }
   ],
   "source": [
    "data = pd.read_csv(\"Coursera.csv\")\n",
    "data.head(5)"
   ]
  },
  {
   "cell_type": "code",
   "execution_count": 117,
   "metadata": {},
   "outputs": [
    {
     "data": {
      "text/plain": [
       "(3522, 7)"
      ]
     },
     "execution_count": 117,
     "metadata": {},
     "output_type": "execute_result"
    }
   ],
   "source": [
    "data.shape"
   ]
  },
  {
   "cell_type": "code",
   "execution_count": 118,
   "metadata": {},
   "outputs": [
    {
     "name": "stdout",
     "output_type": "stream",
     "text": [
      "<class 'pandas.core.frame.DataFrame'>\n",
      "RangeIndex: 3522 entries, 0 to 3521\n",
      "Data columns (total 7 columns):\n",
      " #   Column              Non-Null Count  Dtype \n",
      "---  ------              --------------  ----- \n",
      " 0   Course Name         3522 non-null   object\n",
      " 1   University          3522 non-null   object\n",
      " 2   Difficulty Level    3522 non-null   object\n",
      " 3   Course Rating       3522 non-null   object\n",
      " 4   Course URL          3522 non-null   object\n",
      " 5   Course Description  3522 non-null   object\n",
      " 6   Skills              3522 non-null   object\n",
      "dtypes: object(7)\n",
      "memory usage: 192.7+ KB\n"
     ]
    }
   ],
   "source": [
    "data.info()"
   ]
  },
  {
   "cell_type": "code",
   "execution_count": 119,
   "metadata": {},
   "outputs": [
    {
     "data": {
      "text/plain": [
       "Course Name           0\n",
       "University            0\n",
       "Difficulty Level      0\n",
       "Course Rating         0\n",
       "Course URL            0\n",
       "Course Description    0\n",
       "Skills                0\n",
       "dtype: int64"
      ]
     },
     "execution_count": 119,
     "metadata": {},
     "output_type": "execute_result"
    }
   ],
   "source": [
    "data.isnull().sum()"
   ]
  },
  {
   "cell_type": "code",
   "execution_count": 120,
   "metadata": {},
   "outputs": [
    {
     "data": {
      "text/plain": [
       "Beginner          1444\n",
       "Advanced          1005\n",
       "Intermediate       837\n",
       "Conversant         186\n",
       "Not Calibrated      50\n",
       "Name: Difficulty Level, dtype: int64"
      ]
     },
     "execution_count": 120,
     "metadata": {},
     "output_type": "execute_result"
    }
   ],
   "source": [
    "data['Difficulty Level'].value_counts()"
   ]
  },
  {
   "cell_type": "code",
   "execution_count": 121,
   "metadata": {},
   "outputs": [
    {
     "data": {
      "text/plain": [
       "4.7               740\n",
       "4.6               623\n",
       "4.8               598\n",
       "4.5               389\n",
       "4.4               242\n",
       "4.9               180\n",
       "4.3               165\n",
       "4.2               121\n",
       "5                  90\n",
       "4.1                85\n",
       "Not Calibrated     82\n",
       "4                  51\n",
       "3.8                24\n",
       "3.9                20\n",
       "3.6                18\n",
       "3.7                18\n",
       "3.5                17\n",
       "3.4                13\n",
       "3                  12\n",
       "3.2                 9\n",
       "3.3                 6\n",
       "2.9                 6\n",
       "2.6                 2\n",
       "2.8                 2\n",
       "2.4                 2\n",
       "1                   2\n",
       "2                   1\n",
       "3.1                 1\n",
       "2.5                 1\n",
       "1.9                 1\n",
       "2.3                 1\n",
       "Name: Course Rating, dtype: int64"
      ]
     },
     "execution_count": 121,
     "metadata": {},
     "output_type": "execute_result"
    }
   ],
   "source": [
    "data['Course Rating'].value_counts()"
   ]
  },
  {
   "cell_type": "code",
   "execution_count": 122,
   "metadata": {},
   "outputs": [
    {
     "data": {
      "text/plain": [
       "Coursera Project Network                      562\n",
       "University of Illinois at Urbana-Champaign    138\n",
       "Johns Hopkins University                      110\n",
       "University of Michigan                        101\n",
       "University of Colorado Boulder                101\n",
       "                                             ... \n",
       "GitLab                                          1\n",
       "Yeshiva University                              1\n",
       "University of Glasgow                           1\n",
       "Laureate Education                              1\n",
       "The World Bank Group                            1\n",
       "Name: University, Length: 184, dtype: int64"
      ]
     },
     "execution_count": 122,
     "metadata": {},
     "output_type": "execute_result"
    }
   ],
   "source": [
    "data['University'].value_counts()"
   ]
  },
  {
   "cell_type": "code",
   "execution_count": 123,
   "metadata": {},
   "outputs": [
    {
     "data": {
      "text/plain": [
       "Google Cloud Platform  Big Data  Cloud Infrastructure  google storage  Cloud Storage  bigquery  Cloud Platforms  Kubernetes  Cloud Computing  Google App Engine information-technology cloud-computing                                  8\n",
       "art  listening  emotions  Sound Design  music  signature  Audio Production  Writing  microphone  sound arts-and-humanities music-and-art                                                                                                4\n",
       "Python Programming  python libraries  analysis  semantics  Computer Programming  syntax  Data Analysis  Pandas  python syntax and semantics  Numpy data-science data-analysis                                                           4\n",
       "analysis  Machine Learning  Data Mining  Artificial Neural Networks  Regression Analysis  Data Analysis  data reporting  Human Learning  Regression  Big Data data-science data-analysis                                                4\n",
       "Machine Learning  artificial general intelligence  application domain  ethics of artificial intelligence  Human Learning  language  Artificial Neural Networks  Computer Vision  ethics  Deep Learning data-science machine-learning    4\n",
       "                                                                                                                                                                                                                                       ..\n",
       "music  re-define  h.e.a.r.  publicity  Social Media  popular music  Planning  Payments  label  Audio Recording arts-and-humanities music-and-art                                                                                        1\n",
       "microbiology  nutrition  metagenomics  probiotics  probiotic  biology  food allergy  allergy  microbiota  thought life-sciences basic-science                                                                                           1\n",
       "Management Accounting  cost benefit analysis  Finance  Profit Analysis  Financial Accounting  Accounting  Leadership and Management  contribution margin  cost allocation  cost business finance                                        1\n",
       "tableau software  Data Visualization Software  Computer Graphics  visualization software  Data Analysis  Data Visualization  software  Parallel Coordinates  graphs  analysis data-science data-analysis                                1\n",
       "bigtable  bigquery  SQL  Google Cloud Platform  role-based access control  Cloud Storage  Kubernetes  identity management  Cloud Computing  Cloud Platforms computer-science software-development                                       1\n",
       "Name: Skills, Length: 3424, dtype: int64"
      ]
     },
     "execution_count": 123,
     "metadata": {},
     "output_type": "execute_result"
    }
   ],
   "source": [
    "data['Skills'].value_counts()"
   ]
  },
  {
   "cell_type": "code",
   "execution_count": 124,
   "metadata": {},
   "outputs": [
    {
     "data": {
      "text/plain": [
       "0       Write A Feature Length Screenplay For Film Or ...\n",
       "1       Business Strategy: Business Model Canvas Analy...\n",
       "2                           Silicon Thin Film Solar Cells\n",
       "3                                    Finance for Managers\n",
       "4            Retrieve Data using Single-Table SQL Queries\n",
       "                              ...                        \n",
       "3517    Capstone: Retrieving, Processing, and Visualiz...\n",
       "3518                     Patrick Henry: Forgotten Founder\n",
       "3519    Business intelligence and data analytics: Gene...\n",
       "3520                                  Rigid Body Dynamics\n",
       "3521    Architecting with Google Kubernetes Engine: Pr...\n",
       "Name: Course Name, Length: 3522, dtype: object"
      ]
     },
     "execution_count": 124,
     "metadata": {},
     "output_type": "execute_result"
    }
   ],
   "source": [
    "data['Course Name']"
   ]
  },
  {
   "attachments": {},
   "cell_type": "markdown",
   "metadata": {},
   "source": [
    "## Required Columns for System"
   ]
  },
  {
   "attachments": {},
   "cell_type": "markdown",
   "metadata": {},
   "source": [
    "#### Important columns to be used in recommendation system : \n",
    "\n",
    "- Course Ratings : Users may want to see courses based on rates\n",
    "- Skills : Users may want to see courses based on same skills\n",
    "- Difficulty Level : Similar courses as per difficulty level \n",
    "\n",
    "#### Columns not used for the recommendation system :\n",
    "\n",
    "- Course Name : Names of the courses\n",
    "- Course Description : Similar courses may have similar course description but not useful for us\n",
    "- University : Same university might offer multiple courses in different domains which the user might not want to see\n",
    "- Course URL : No significance in the recommendation system"
   ]
  },
  {
   "cell_type": "code",
   "execution_count": 125,
   "metadata": {},
   "outputs": [
    {
     "data": {
      "text/html": [
       "<div>\n",
       "<style scoped>\n",
       "    .dataframe tbody tr th:only-of-type {\n",
       "        vertical-align: middle;\n",
       "    }\n",
       "\n",
       "    .dataframe tbody tr th {\n",
       "        vertical-align: top;\n",
       "    }\n",
       "\n",
       "    .dataframe thead th {\n",
       "        text-align: right;\n",
       "    }\n",
       "</style>\n",
       "<table border=\"1\" class=\"dataframe\">\n",
       "  <thead>\n",
       "    <tr style=\"text-align: right;\">\n",
       "      <th></th>\n",
       "      <th>Course Name</th>\n",
       "      <th>Difficulty Level</th>\n",
       "      <th>Course Rating</th>\n",
       "      <th>Skills</th>\n",
       "    </tr>\n",
       "  </thead>\n",
       "  <tbody>\n",
       "    <tr>\n",
       "      <th>0</th>\n",
       "      <td>Write A Feature Length Screenplay For Film Or ...</td>\n",
       "      <td>Beginner</td>\n",
       "      <td>4.8</td>\n",
       "      <td>Drama  Comedy  peering  screenwriting  film  D...</td>\n",
       "    </tr>\n",
       "    <tr>\n",
       "      <th>1</th>\n",
       "      <td>Business Strategy: Business Model Canvas Analy...</td>\n",
       "      <td>Beginner</td>\n",
       "      <td>4.8</td>\n",
       "      <td>Finance  business plan  persona (user experien...</td>\n",
       "    </tr>\n",
       "    <tr>\n",
       "      <th>2</th>\n",
       "      <td>Silicon Thin Film Solar Cells</td>\n",
       "      <td>Advanced</td>\n",
       "      <td>4.1</td>\n",
       "      <td>chemistry  physics  Solar Energy  film  lambda...</td>\n",
       "    </tr>\n",
       "    <tr>\n",
       "      <th>3</th>\n",
       "      <td>Finance for Managers</td>\n",
       "      <td>Intermediate</td>\n",
       "      <td>4.8</td>\n",
       "      <td>accounts receivable  dupont analysis  analysis...</td>\n",
       "    </tr>\n",
       "    <tr>\n",
       "      <th>4</th>\n",
       "      <td>Retrieve Data using Single-Table SQL Queries</td>\n",
       "      <td>Beginner</td>\n",
       "      <td>4.6</td>\n",
       "      <td>Data Analysis  select (sql)  database manageme...</td>\n",
       "    </tr>\n",
       "  </tbody>\n",
       "</table>\n",
       "</div>"
      ],
      "text/plain": [
       "                                         Course Name Difficulty Level  \\\n",
       "0  Write A Feature Length Screenplay For Film Or ...         Beginner   \n",
       "1  Business Strategy: Business Model Canvas Analy...         Beginner   \n",
       "2                      Silicon Thin Film Solar Cells         Advanced   \n",
       "3                               Finance for Managers     Intermediate   \n",
       "4       Retrieve Data using Single-Table SQL Queries         Beginner   \n",
       "\n",
       "  Course Rating                                             Skills  \n",
       "0           4.8  Drama  Comedy  peering  screenwriting  film  D...  \n",
       "1           4.8  Finance  business plan  persona (user experien...  \n",
       "2           4.1  chemistry  physics  Solar Energy  film  lambda...  \n",
       "3           4.8  accounts receivable  dupont analysis  analysis...  \n",
       "4           4.6  Data Analysis  select (sql)  database manageme...  "
      ]
     },
     "execution_count": 125,
     "metadata": {},
     "output_type": "execute_result"
    }
   ],
   "source": [
    "data = data[['Course Name','Difficulty Level','Course Rating','Skills']]\n",
    "data.head(5)"
   ]
  },
  {
   "attachments": {},
   "cell_type": "markdown",
   "metadata": {},
   "source": [
    "## 4.GUI environment"
   ]
  },
  {
   "cell_type": "code",
   "execution_count": 7,
   "metadata": {},
   "outputs": [],
   "source": [
    "import pandas as pd\n",
    "import tkinter as tk\n",
    "from tkinter import ttk\n",
    "\n",
    "# Assuming you have the 'courses_df' DataFrame\n",
    "\n",
    "# Create a Tkinter window\n",
    "window = tk.Tk()\n",
    "\n",
    "# Get the first 10 rows of the DataFrame\n",
    "first_10_rows = courses_df.head(10)\n",
    "\n",
    "# Create a Treeview widget to display the table\n",
    "table = ttk.Treeview(window)\n",
    "\n",
    "# Configure the table columns based on the DataFrame columns\n",
    "table[\"columns\"] = list(first_10_rows.columns)\n",
    "for column in first_10_rows.columns:\n",
    "    table.column(column, width=100)\n",
    "    table.heading(column, text=column)\n",
    "\n",
    "# Insert the data rows into the table\n",
    "for _, row in first_10_rows.iterrows():\n",
    "    table.insert(\"\", \"end\", values=tuple(row))\n",
    "\n",
    "# Place the table in the window\n",
    "table.pack()\n",
    "\n",
    "# Start the Tkinter event loop\n",
    "window.mainloop()\n"
   ]
  },
  {
   "cell_type": "code",
   "execution_count": null,
   "metadata": {},
   "outputs": [],
   "source": []
  }
 ],
 "metadata": {
  "kernelspec": {
   "display_name": "Python 3.8.5 64-bit",
   "language": "python",
   "name": "python3"
  },
  "language_info": {
   "codemirror_mode": {
    "name": "ipython",
    "version": 3
   },
   "file_extension": ".py",
   "mimetype": "text/x-python",
   "name": "python",
   "nbconvert_exporter": "python",
   "pygments_lexer": "ipython3",
   "version": "3.8.5"
  },
  "orig_nbformat": 4,
  "vscode": {
   "interpreter": {
    "hash": "0adcc2737ebf6a4a119f135174df96668767fca1ef1112612db5ecadf2b6d608"
   }
  }
 },
 "nbformat": 4,
 "nbformat_minor": 2
}
